{
 "cells": [
  {
   "cell_type": "markdown",
   "metadata": {},
   "source": [
    "# Using an RL agent to cluster a given set of particles (BYOJ)"
   ]
  },
  {
   "cell_type": "code",
   "execution_count": 23,
   "metadata": {},
   "outputs": [
    {
     "data": {
      "text/plain": [
       "182.83333333333334"
      ]
     },
     "execution_count": 23,
     "metadata": {},
     "output_type": "execute_result"
    }
   ],
   "source": [
    "366/3+365/6"
   ]
  },
  {
   "cell_type": "code",
   "execution_count": 21,
   "metadata": {},
   "outputs": [
    {
     "data": {
      "text/plain": [
       "6.25"
      ]
     },
     "execution_count": 21,
     "metadata": {},
     "output_type": "execute_result"
    }
   ],
   "source": [
    "150/24"
   ]
  },
  {
   "cell_type": "code",
   "execution_count": 20,
   "metadata": {},
   "outputs": [
    {
     "data": {
      "text/plain": [
       "13.883888888888889"
      ]
     },
     "execution_count": 20,
     "metadata": {},
     "output_type": "execute_result"
    }
   ],
   "source": [
    "49982/3600"
   ]
  },
  {
   "cell_type": "markdown",
   "metadata": {},
   "source": [
    "Johann Brehmer 2020"
   ]
  },
  {
   "cell_type": "markdown",
   "metadata": {},
   "source": [
    "## Preparations"
   ]
  },
  {
   "cell_type": "code",
   "execution_count": 1,
   "metadata": {},
   "outputs": [],
   "source": [
    "import sys\n",
    "import numpy as np\n",
    "import logging\n",
    "import torch\n",
    "\n",
    "sys.path.append(\"../\")\n",
    "from ginkgo_rl import GinkgoRLInterface, PolicyMCTSAgent"
   ]
  },
  {
   "cell_type": "markdown",
   "metadata": {},
   "source": [
    "Let's read INFO-level output from the RL agent, but silence a few other libraries that like to produce lots of logging output. To check what's happening in more detail, use `logging.DEBUG` instead."
   ]
  },
  {
   "cell_type": "code",
   "execution_count": 2,
   "metadata": {},
   "outputs": [],
   "source": [
    "logger = logging.getLogger(\"We\")\n",
    "logging.basicConfig(format=\"%(asctime)s %(levelname).1s: %(message)s\", datefmt=\"%y-%m-%d %H:%M\")\n",
    "\n",
    "silence_list = [\"matplotlib\", \"ginkgo\", \"ClusterTrellis\"]\n",
    "for key in logging.Logger.manager.loggerDict:\n",
    "    logging.getLogger(key).setLevel(logging.INFO)\n",
    "    for check_key in silence_list:\n",
    "        if check_key in key:\n",
    "            logging.getLogger(key).setLevel(logging.ERROR)\n",
    "            break\n",
    "            "
   ]
  },
  {
   "cell_type": "markdown",
   "metadata": {},
   "source": [
    "## Set up GinkgoRLInterface instance"
   ]
  },
  {
   "cell_type": "markdown",
   "metadata": {},
   "source": [
    "First, let's specify the setup for the environment and the agent. Note that these have to matched the setup in which the agent was trained.\n",
    "\n",
    "I'm working on documentation..."
   ]
  },
  {
   "cell_type": "code",
   "execution_count": 3,
   "metadata": {},
   "outputs": [],
   "source": [
    "settings = {\n",
    "    \"n_max\": 40,\n",
    "    \"n_min\": 4,\n",
    "    \"w_jet\": False,\n",
    "    \"w_rate\": 3.0,\n",
    "    \"qcd_rate\": 1.5,\n",
    "    \"pt_min\": 1.1**2,\n",
    "    \"qcd_mass\": 30.0,\n",
    "    \"w_mass\": 80.0,\n",
    "    \"jet_momentum\": 400.0,\n",
    "    \"jetdir\": (1, 1, 1),\n",
    "    \"beamsize\": 20,\n",
    "    \"n_mc_target\": 2,\n",
    "    \"n_mc_max\": 50,\n",
    "    \"device\": torch.device(\"cpu\"),\n",
    "}"
   ]
  },
  {
   "cell_type": "markdown",
   "metadata": {},
   "source": [
    "Path to the state dictionary of the RL agent."
   ]
  },
  {
   "cell_type": "code",
   "execution_count": 4,
   "metadata": {},
   "outputs": [],
   "source": [
    "# state_dict_filename = \"./data/runs/mcts_nn_m_20200930_092039_1010/model.pty\"\n",
    "state_dict_filename = \"./data/runs/mcts_nn_xs_20210324_154917_1003/model.pty\""
   ]
  },
  {
   "cell_type": "code",
   "execution_count": 5,
   "metadata": {},
   "outputs": [
    {
     "data": {
      "text/plain": [
       "<module 'torch' from '/Users/sebastianmacaluso/anaconda3/lib/python3.7/site-packages/torch/__init__.py'>"
      ]
     },
     "execution_count": 5,
     "metadata": {},
     "output_type": "execute_result"
    }
   ],
   "source": [
    "torch"
   ]
  },
  {
   "cell_type": "code",
   "execution_count": 6,
   "metadata": {},
   "outputs": [
    {
     "data": {
      "text/plain": [
       "OrderedDict([('actor.latent_net.0.weight',\n",
       "              tensor([[-0.0773, -0.0353,  0.0150,  ..., -0.0535,  0.0250,  0.0297],\n",
       "                      [ 0.0606,  0.0317,  0.0693,  ..., -0.0630, -0.0599,  0.0054],\n",
       "                      [ 0.0266,  0.0457, -0.0330,  ...,  0.0749, -0.0161, -0.0620],\n",
       "                      ...,\n",
       "                      [-0.0609, -0.0652, -0.0117,  ..., -0.0288, -0.0721,  0.0424],\n",
       "                      [-0.0339, -0.0633,  0.0649,  ..., -0.0611,  0.0072,  0.0507],\n",
       "                      [ 0.0079,  0.0251,  0.0506,  ...,  0.0232,  0.0685, -0.0386]])),\n",
       "             ('actor.latent_net.0.bias',\n",
       "              tensor([ 0.0012, -0.0326, -0.0127,  0.0258, -0.0139,  0.0442,  0.0569, -0.0441,\n",
       "                       0.0384,  0.0185,  0.0048, -0.0620,  0.0468,  0.0061,  0.0323,  0.0628,\n",
       "                      -0.0348, -0.0601, -0.0473,  0.0348, -0.0514, -0.0099, -0.0504,  0.0282,\n",
       "                      -0.0150, -0.0101,  0.0395, -0.0543, -0.0660, -0.0538,  0.0201,  0.0733,\n",
       "                      -0.0620,  0.0135,  0.0252,  0.0399,  0.0016,  0.0613, -0.0096,  0.0751,\n",
       "                      -0.0385,  0.0651, -0.0708,  0.0654, -0.0034,  0.0344, -0.0026,  0.0369,\n",
       "                      -0.0668,  0.0434,  0.0721,  0.0041,  0.0275,  0.0786,  0.0104,  0.0191,\n",
       "                       0.0032,  0.0429, -0.0276, -0.0195, -0.0303, -0.0134,  0.0650,  0.0568,\n",
       "                       0.0768,  0.0085,  0.0688,  0.0627, -0.0091,  0.0356, -0.0452, -0.0330,\n",
       "                       0.0345,  0.0707,  0.0205, -0.0273, -0.0572,  0.0186, -0.0577,  0.0460,\n",
       "                       0.0634, -0.0206, -0.0308, -0.0687, -0.0555,  0.0408,  0.0762, -0.0651,\n",
       "                      -0.0152, -0.0307, -0.0281,  0.0198,  0.0229,  0.0537,  0.0081, -0.0332,\n",
       "                       0.0676, -0.0306, -0.0570, -0.0290])),\n",
       "             ('actor.latent_net.2.weight',\n",
       "              tensor([[-0.0589, -0.0847, -0.0252,  ...,  0.0637, -0.0570, -0.0077],\n",
       "                      [-0.0789,  0.0260,  0.0652,  ..., -0.0383,  0.0315, -0.0103],\n",
       "                      [ 0.0266, -0.0511,  0.0277,  ..., -0.0172, -0.0751, -0.0763],\n",
       "                      ...,\n",
       "                      [-0.0532,  0.0152,  0.0548,  ...,  0.0618, -0.0567,  0.0047],\n",
       "                      [-0.0325,  0.0173, -0.0028,  ..., -0.0558,  0.0378,  0.0756],\n",
       "                      [ 0.0270,  0.0033, -0.0628,  ..., -0.0414, -0.0160, -0.0730]])),\n",
       "             ('actor.latent_net.2.bias',\n",
       "              tensor([-0.0788, -0.0342,  0.0216,  0.0438, -0.0124, -0.0130, -0.0357,  0.0263,\n",
       "                       0.0425, -0.0128, -0.0155,  0.0838, -0.0317, -0.0952, -0.0465,  0.0561,\n",
       "                      -0.0782,  0.0753,  0.0779, -0.0048,  0.0541, -0.1007, -0.0430, -0.0608,\n",
       "                       0.0645, -0.0590, -0.0265,  0.0621, -0.0748,  0.0216,  0.0983, -0.0749,\n",
       "                      -0.1026, -0.0770, -0.0615, -0.0390,  0.0788, -0.0881, -0.0482,  0.0396,\n",
       "                      -0.0392, -0.0588,  0.0777, -0.0199, -0.0405, -0.0863, -0.0108,  0.0765,\n",
       "                       0.0368, -0.0154,  0.0846, -0.0026, -0.0193,  0.0869, -0.0580, -0.0338,\n",
       "                       0.0990, -0.0595,  0.0160, -0.0634,  0.0639,  0.0897, -0.0016, -0.0309,\n",
       "                       0.0183, -0.0869, -0.0453, -0.0781,  0.0036, -0.0292,  0.0787, -0.0398,\n",
       "                      -0.0931,  0.0616,  0.0247, -0.0644,  0.0727, -0.0760, -0.0519, -0.0594,\n",
       "                       0.0875,  0.0641,  0.0238,  0.0946,  0.0634,  0.0523, -0.0067, -0.0095,\n",
       "                       0.0590,  0.0725, -0.0215,  0.0124,  0.0902, -0.0558, -0.0242,  0.0924,\n",
       "                       0.0194,  0.0439, -0.0944, -0.0234])),\n",
       "             ('actor.head_nets.0.0.weight',\n",
       "              tensor([[ 0.1090, -0.0408, -0.0461,  0.0580,  0.1046, -0.0872,  0.0221,  0.0483,\n",
       "                       -0.0134,  0.1039, -0.0740,  0.0483, -0.0469,  0.0135, -0.0850,  0.0443,\n",
       "                       -0.0822,  0.1095, -0.0265, -0.0696, -0.0923, -0.0953, -0.0428,  0.0958,\n",
       "                       -0.0650, -0.1137, -0.0926,  0.0283, -0.0614, -0.0274,  0.1103,  0.0557,\n",
       "                       -0.0926, -0.1061,  0.0677,  0.0698, -0.0462,  0.0892, -0.0918,  0.1145,\n",
       "                       -0.0137, -0.0470,  0.1255,  0.0680,  0.0779,  0.0400, -0.0373,  0.0737,\n",
       "                       -0.0969,  0.1015,  0.0047,  0.0868,  0.0465, -0.0669, -0.0226, -0.0416,\n",
       "                       -0.0688, -0.0946,  0.0837, -0.0921, -0.0542,  0.0913,  0.0421,  0.0682,\n",
       "                        0.0004, -0.0506,  0.0481,  0.0920,  0.0519,  0.0141,  0.0572,  0.0191,\n",
       "                       -0.0933, -0.0231, -0.0995, -0.1213,  0.0791,  0.0282, -0.0820, -0.1220,\n",
       "                       -0.0778, -0.0754, -0.0487,  0.0173, -0.0211,  0.0362,  0.0283,  0.0275,\n",
       "                       -0.0735,  0.0488, -0.1216, -0.0600, -0.0667, -0.0405,  0.0645, -0.0786,\n",
       "                       -0.1304,  0.0290, -0.0601, -0.0285]])),\n",
       "             ('actor.head_nets.0.0.bias', tensor([0.0391]))])"
      ]
     },
     "execution_count": 6,
     "metadata": {},
     "output_type": "execute_result"
    }
   ],
   "source": [
    "torch.load(state_dict_filename)"
   ]
  },
  {
   "cell_type": "markdown",
   "metadata": {},
   "source": [
    "And finally..."
   ]
  },
  {
   "cell_type": "code",
   "execution_count": 7,
   "metadata": {},
   "outputs": [],
   "source": [
    "grl = GinkgoRLInterface(state_dict_filename, **settings)"
   ]
  },
  {
   "cell_type": "markdown",
   "metadata": {},
   "source": [
    "## If you don't have a jet, make one"
   ]
  },
  {
   "cell_type": "markdown",
   "metadata": {},
   "source": [
    "The whole point of this interface is applying the RL agent to any tree of your choice. However, for convenience (and cross-checks), the `GinkgoRLInterface` class also provides a `generate` function that allows you to generate Ginkgo jets with the settings used."
   ]
  },
  {
   "cell_type": "code",
   "execution_count": 8,
   "metadata": {},
   "outputs": [
    {
     "name": "stdout",
     "output_type": "stream",
     "text": [
      " N const =  18\n",
      " N const =  20\n",
      " N const =  23\n",
      " N const =  18\n",
      " N const =  21\n",
      " N const =  20\n"
     ]
    }
   ],
   "source": [
    "jets = grl.generate(n=3)"
   ]
  },
  {
   "cell_type": "code",
   "execution_count": 10,
   "metadata": {},
   "outputs": [
    {
     "data": {
      "text/plain": [
       "3"
      ]
     },
     "execution_count": 10,
     "metadata": {},
     "output_type": "execute_result"
    }
   ],
   "source": [
    "len(jets)"
   ]
  },
  {
   "cell_type": "markdown",
   "metadata": {},
   "source": [
    "## Run clustering"
   ]
  },
  {
   "cell_type": "markdown",
   "metadata": {},
   "source": [
    "`GinkgoRLInterface.cluster` is the main function to let the MCTS agent cluster the jets in a jet dictionary. These can be provided as a `dict` object (like we do here) or through the path of a pickled file.\n",
    "\n",
    "The function returns:\n",
    "- the clustered jets (as a list of dict objects in the usual Ginkgo style)\n",
    "- the overall log likelihoods of all reclustered jets\n",
    "- the number of illegal actions that the RL algorithm picked (hopefully just zeros)\n",
    "- the computational cost for each jet, measured as the number of evaluations of the splitting likelihood function\n",
    "\n",
    "If the keyword `filename` is used, the reclustered jets are also pickled to a file."
   ]
  },
  {
   "cell_type": "code",
   "execution_count": 9,
   "metadata": {},
   "outputs": [
    {
     "name": "stderr",
     "output_type": "stream",
     "text": [
      "100%|██████████| 3/3 [07:50<00:00, 156.90s/it]\n"
     ]
    }
   ],
   "source": [
    "clustered_jets, log_likelihoods, illegal_actions, costs = grl.cluster(jets, filename=\"reclustered_jets.pickle\")"
   ]
  },
  {
   "cell_type": "code",
   "execution_count": 12,
   "metadata": {},
   "outputs": [
    {
     "data": {
      "text/plain": [
       "([-100.49293088912964, -89.16798186302185, -97.30661630630493],\n",
       " [0, 0, 0],\n",
       " [344247, 236349, 362693])"
      ]
     },
     "execution_count": 12,
     "metadata": {},
     "output_type": "execute_result"
    }
   ],
   "source": [
    " log_likelihoods, illegal_actions, costs"
   ]
  },
  {
   "cell_type": "markdown",
   "metadata": {},
   "source": [
    "## Visualize results"
   ]
  },
  {
   "cell_type": "markdown",
   "metadata": {},
   "source": [
    "Let's visualize the true and clustered tree using Sebastian's code (make sure that the Ginkgo folder is in the PYTHONPATH)."
   ]
  },
  {
   "cell_type": "code",
   "execution_count": 8,
   "metadata": {},
   "outputs": [],
   "source": [
    "from scripts import Tree1D_invM as Tree1D\n",
    "\n",
    "def visualize(jet_top, jet_bottom, label_top=\"Truth\", label_bottom=\"MCTS\"):\n",
    "    jet_top[\"node_id\"] = jet_top[\"root_id\"]\n",
    "    jet_bottom[\"node_id\"] = jet_bottom[\"root_id\"]\n",
    "    \n",
    "    tree1, tree2 = Tree1D.visualizeTreePair(\n",
    "        jet_top,\n",
    "        jet_bottom,\n",
    "        truthOrder=True, \n",
    "        label=True,\n",
    "        figFormat=\"jpg\",\n",
    "    )\n",
    "    tree1.attr(\n",
    "        rankdir='TB',\n",
    "        size=\"10\",\n",
    "        margin='0',\n",
    "        ratio=\"0.5\",\n",
    "        nodesep=\"0.01\",\n",
    "        label=label_top,\n",
    "        labelloc='t',\n",
    "        fontsize=\"36\"\n",
    "    )\n",
    "    tree2.attr(\n",
    "        rankdir='BT',\n",
    "        size=\"10\",\n",
    "        margin='0',\n",
    "        ratio=\"0.5\",\n",
    "        nodesep=\"0.01\",\n",
    "        label=label_bottom,\n",
    "        labelloc='b',\n",
    "        fontsize=\"36\"\n",
    "    )\n",
    "\n",
    "    display(tree1)\n",
    "    display(tree2)\n"
   ]
  },
  {
   "cell_type": "code",
   "execution_count": 11,
   "metadata": {},
   "outputs": [
    {
     "name": "stderr",
     "output_type": "stream",
     "text": [
      "Warning: node '12', graph '%3' size too small for label\n"
     ]
    },
    {
     "data": {
      "image/svg+xml": [
       "<?xml version=\"1.0\" encoding=\"UTF-8\" standalone=\"no\"?>\n",
       "<!DOCTYPE svg PUBLIC \"-//W3C//DTD SVG 1.1//EN\"\n",
       " \"http://www.w3.org/Graphics/SVG/1.1/DTD/svg11.dtd\">\n",
       "<!-- Generated by graphviz version 2.44.1 (20200629.0846)\n",
       " -->\n",
       "<!-- Pages: 1 -->\n",
       "<svg width=\"720pt\" height=\"393pt\"\n",
       " viewBox=\"0.00 0.00 720.00 393.07\" xmlns=\"http://www.w3.org/2000/svg\" xmlns:xlink=\"http://www.w3.org/1999/xlink\">\n",
       "<g id=\"graph0\" class=\"graph\" transform=\"scale(0.64 0.64) rotate(0) translate(4 614)\">\n",
       "<polygon fill=\"white\" stroke=\"transparent\" points=\"-4,4 -4,-614 1128,-614 1128,4 -4,4\"/>\n",
       "<text text-anchor=\"middle\" x=\"562\" y=\"-577.2\" font-family=\"Times,serif\" font-size=\"36.00\">Truth</text>\n",
       "<!-- 0 -->\n",
       "<g id=\"node1\" class=\"node\">\n",
       "<title>0</title>\n",
       "<ellipse fill=\"wheat\" stroke=\"wheat\" cx=\"544.19\" cy=\"-517\" rx=\"45\" ry=\"45\"/>\n",
       "<text text-anchor=\"middle\" x=\"544.19\" y=\"-523\" font-family=\"Times,serif\" font-size=\"20.00\">pT:326.6</text>\n",
       "<text text-anchor=\"middle\" x=\"544.19\" y=\"-501\" font-family=\"Times,serif\" font-size=\"20.00\"> m:80.00 </text>\n",
       "</g>\n",
       "<!-- 1 -->\n",
       "<g id=\"node2\" class=\"node\">\n",
       "<title>1</title>\n",
       "<ellipse fill=\"wheat\" stroke=\"wheat\" cx=\"458.19\" cy=\"-265\" rx=\"45\" ry=\"45\"/>\n",
       "<text text-anchor=\"middle\" x=\"458.19\" y=\"-271\" font-family=\"Times,serif\" font-size=\"20.00\">pT:45.7</text>\n",
       "<text text-anchor=\"middle\" x=\"458.19\" y=\"-249\" font-family=\"Times,serif\" font-size=\"20.00\"> m:27.91 </text>\n",
       "</g>\n",
       "<!-- 0&#45;&gt;1 -->\n",
       "<g id=\"edge1\" class=\"edge\">\n",
       "<title>0&#45;&gt;1</title>\n",
       "<path fill=\"none\" stroke=\"black\" d=\"M529.8,-474.16C514.05,-428.37 488.92,-355.34 473.01,-309.07\"/>\n",
       "<polygon fill=\"black\" stroke=\"black\" points=\"473.29,-308.81 472.63,-307.98 472.63,-309.04 473.29,-308.81\"/>\n",
       "</g>\n",
       "<!-- 8 -->\n",
       "<g id=\"node9\" class=\"node\">\n",
       "<title>8</title>\n",
       "<ellipse fill=\"wheat\" stroke=\"wheat\" cx=\"632.19\" cy=\"-391\" rx=\"45\" ry=\"45\"/>\n",
       "<text text-anchor=\"middle\" x=\"632.19\" y=\"-397\" font-family=\"Times,serif\" font-size=\"20.00\">pT:280.9</text>\n",
       "<text text-anchor=\"middle\" x=\"632.19\" y=\"-375\" font-family=\"Times,serif\" font-size=\"20.00\"> m:10.90 </text>\n",
       "</g>\n",
       "<!-- 0&#45;&gt;8 -->\n",
       "<g id=\"edge8\" class=\"edge\">\n",
       "<title>0&#45;&gt;8</title>\n",
       "<path fill=\"none\" stroke=\"black\" d=\"M569.88,-479.8C581.18,-463.88 594.43,-445.21 605.81,-429.18\"/>\n",
       "<polygon fill=\"black\" stroke=\"black\" points=\"606.33,-429.05 606.62,-428.03 605.76,-428.64 606.33,-429.05\"/>\n",
       "</g>\n",
       "<!-- 2 -->\n",
       "<g id=\"node3\" class=\"node\">\n",
       "<title>2</title>\n",
       "<ellipse fill=\"wheat\" stroke=\"wheat\" cx=\"210.19\" cy=\"-139\" rx=\"45\" ry=\"45\"/>\n",
       "<text text-anchor=\"middle\" x=\"210.19\" y=\"-145\" font-family=\"Times,serif\" font-size=\"20.00\">pT:38.8</text>\n",
       "<text text-anchor=\"middle\" x=\"210.19\" y=\"-123\" font-family=\"Times,serif\" font-size=\"20.00\"> m:8.53 </text>\n",
       "</g>\n",
       "<!-- 1&#45;&gt;2 -->\n",
       "<g id=\"edge2\" class=\"edge\">\n",
       "<title>1&#45;&gt;2</title>\n",
       "<path fill=\"none\" stroke=\"black\" d=\"M418.35,-244.08C372.56,-221.19 297.8,-183.81 251.44,-160.62\"/>\n",
       "<polygon fill=\"black\" stroke=\"black\" points=\"251.4,-160.21 250.35,-160.08 251.09,-160.84 251.4,-160.21\"/>\n",
       "</g>\n",
       "<!-- 5 -->\n",
       "<g id=\"node6\" class=\"node\">\n",
       "<title>5</title>\n",
       "<ellipse fill=\"wheat\" stroke=\"wheat\" cx=\"458.19\" cy=\"-139\" rx=\"45\" ry=\"45\"/>\n",
       "<text text-anchor=\"middle\" x=\"458.19\" y=\"-145\" font-family=\"Times,serif\" font-size=\"20.00\">pT:10.6</text>\n",
       "<text text-anchor=\"middle\" x=\"458.19\" y=\"-123\" font-family=\"Times,serif\" font-size=\"20.00\"> m:7.58 </text>\n",
       "</g>\n",
       "<!-- 1&#45;&gt;5 -->\n",
       "<g id=\"edge5\" class=\"edge\">\n",
       "<title>1&#45;&gt;5</title>\n",
       "<path fill=\"none\" stroke=\"black\" d=\"M458.19,-219.93C458.19,-208.74 458.19,-196.69 458.19,-185.43\"/>\n",
       "<polygon fill=\"black\" stroke=\"black\" points=\"458.54,-185.34 458.19,-184.34 457.84,-185.34 458.54,-185.34\"/>\n",
       "</g>\n",
       "<!-- 3 -->\n",
       "<g id=\"node4\" class=\"node\">\n",
       "<title>3</title>\n",
       "<ellipse fill=\"lightblue\" stroke=\"lightblue\" cx=\"69.19\" cy=\"-29\" rx=\"29\" ry=\"29\"/>\n",
       "<text text-anchor=\"middle\" x=\"69.19\" y=\"-34.4\" font-family=\"Times,serif\" font-size=\"17.00\">pT:8.8</text>\n",
       "<text text-anchor=\"middle\" x=\"69.19\" y=\"-15.4\" font-family=\"Times,serif\" font-size=\"17.00\"> m:3.85 </text>\n",
       "</g>\n",
       "<!-- 2&#45;&gt;3 -->\n",
       "<g id=\"edge3\" class=\"edge\">\n",
       "<title>2&#45;&gt;3</title>\n",
       "<path fill=\"none\" stroke=\"black\" d=\"M174.61,-110.75C149.07,-91.19 115.36,-65.36 93.01,-48.24\"/>\n",
       "<polygon fill=\"black\" stroke=\"black\" points=\"92.96,-47.76 91.95,-47.43 92.53,-48.32 92.96,-47.76\"/>\n",
       "</g>\n",
       "<!-- 4 -->\n",
       "<g id=\"node5\" class=\"node\">\n",
       "<title>4</title>\n",
       "<ellipse fill=\"lightblue\" stroke=\"lightblue\" cx=\"210.19\" cy=\"-29\" rx=\"29\" ry=\"29\"/>\n",
       "<text text-anchor=\"middle\" x=\"210.19\" y=\"-34.4\" font-family=\"Times,serif\" font-size=\"17.00\">pT:30.1</text>\n",
       "<text text-anchor=\"middle\" x=\"210.19\" y=\"-15.4\" font-family=\"Times,serif\" font-size=\"17.00\"> m:1.21 </text>\n",
       "</g>\n",
       "<!-- 2&#45;&gt;4 -->\n",
       "<g id=\"edge4\" class=\"edge\">\n",
       "<title>2&#45;&gt;4</title>\n",
       "<path fill=\"none\" stroke=\"black\" d=\"M210.19,-93.76C210.19,-82.14 210.19,-69.89 210.19,-59.27\"/>\n",
       "<polygon fill=\"black\" stroke=\"black\" points=\"210.54,-59.24 210.19,-58.24 209.84,-59.24 210.54,-59.24\"/>\n",
       "</g>\n",
       "<!-- 3&#45;&gt;4 -->\n",
       "<!-- 6 -->\n",
       "<g id=\"node7\" class=\"node\">\n",
       "<title>6</title>\n",
       "<ellipse fill=\"lightblue\" stroke=\"lightblue\" cx=\"351.19\" cy=\"-29\" rx=\"29\" ry=\"29\"/>\n",
       "<text text-anchor=\"middle\" x=\"351.19\" y=\"-34.4\" font-family=\"Times,serif\" font-size=\"17.00\">pT:2.0</text>\n",
       "<text text-anchor=\"middle\" x=\"351.19\" y=\"-15.4\" font-family=\"Times,serif\" font-size=\"17.00\"> m:2.73 </text>\n",
       "</g>\n",
       "<!-- 4&#45;&gt;6 -->\n",
       "<!-- 5&#45;&gt;6 -->\n",
       "<g id=\"edge6\" class=\"edge\">\n",
       "<title>5&#45;&gt;6</title>\n",
       "<path fill=\"none\" stroke=\"black\" d=\"M426.95,-106.47C409.22,-88.58 387.52,-66.67 371.9,-50.9\"/>\n",
       "<polygon fill=\"black\" stroke=\"black\" points=\"372.11,-50.62 371.16,-50.15 371.61,-51.11 372.11,-50.62\"/>\n",
       "</g>\n",
       "<!-- 7 -->\n",
       "<g id=\"node8\" class=\"node\">\n",
       "<title>7</title>\n",
       "<ellipse fill=\"lightblue\" stroke=\"lightblue\" cx=\"491.19\" cy=\"-29\" rx=\"29\" ry=\"29\"/>\n",
       "<text text-anchor=\"middle\" x=\"491.19\" y=\"-34.4\" font-family=\"Times,serif\" font-size=\"17.00\">pT:8.6</text>\n",
       "<text text-anchor=\"middle\" x=\"491.19\" y=\"-15.4\" font-family=\"Times,serif\" font-size=\"17.00\"> m:2.73 </text>\n",
       "</g>\n",
       "<!-- 5&#45;&gt;7 -->\n",
       "<g id=\"edge7\" class=\"edge\">\n",
       "<title>5&#45;&gt;7</title>\n",
       "<path fill=\"none\" stroke=\"black\" d=\"M471.14,-95.63C474.99,-83.03 479.11,-69.55 482.6,-58.1\"/>\n",
       "<polygon fill=\"black\" stroke=\"black\" points=\"482.98,-58.06 482.94,-57 482.31,-57.86 482.98,-58.06\"/>\n",
       "</g>\n",
       "<!-- 6&#45;&gt;7 -->\n",
       "<!-- 9 -->\n",
       "<g id=\"node10\" class=\"node\">\n",
       "<title>9</title>\n",
       "<ellipse fill=\"lightblue\" stroke=\"lightblue\" cx=\"632.19\" cy=\"-29\" rx=\"29\" ry=\"29\"/>\n",
       "<text text-anchor=\"middle\" x=\"632.19\" y=\"-34.4\" font-family=\"Times,serif\" font-size=\"17.00\">pT:82.2</text>\n",
       "<text text-anchor=\"middle\" x=\"632.19\" y=\"-15.4\" font-family=\"Times,serif\" font-size=\"17.00\"> m:2.98 </text>\n",
       "</g>\n",
       "<!-- 7&#45;&gt;9 -->\n",
       "<!-- 8&#45;&gt;9 -->\n",
       "<g id=\"edge9\" class=\"edge\">\n",
       "<title>8&#45;&gt;9</title>\n",
       "<path fill=\"none\" stroke=\"black\" d=\"M632.19,-345.86C632.19,-271.38 632.19,-122.72 632.19,-59.53\"/>\n",
       "<polygon fill=\"black\" stroke=\"black\" points=\"632.54,-59.42 632.19,-58.42 631.84,-59.42 632.54,-59.42\"/>\n",
       "</g>\n",
       "<!-- 10 -->\n",
       "<g id=\"node11\" class=\"node\">\n",
       "<title>10</title>\n",
       "<ellipse fill=\"wheat\" stroke=\"wheat\" cx=\"816.19\" cy=\"-265\" rx=\"45\" ry=\"45\"/>\n",
       "<text text-anchor=\"middle\" x=\"816.19\" y=\"-271\" font-family=\"Times,serif\" font-size=\"20.00\">pT:198.7</text>\n",
       "<text text-anchor=\"middle\" x=\"816.19\" y=\"-249\" font-family=\"Times,serif\" font-size=\"20.00\"> m:7.57 </text>\n",
       "</g>\n",
       "<!-- 8&#45;&gt;10 -->\n",
       "<g id=\"edge10\" class=\"edge\">\n",
       "<title>8&#45;&gt;10</title>\n",
       "<path fill=\"none\" stroke=\"black\" d=\"M669.43,-364.91C701.08,-343.58 746.33,-313.08 778.2,-291.6\"/>\n",
       "<polygon fill=\"black\" stroke=\"black\" points=\"778.69,-291.69 779.33,-290.84 778.3,-291.11 778.69,-291.69\"/>\n",
       "</g>\n",
       "<!-- 12 -->\n",
       "<g id=\"node13\" class=\"node\">\n",
       "<title>12</title>\n",
       "<ellipse fill=\"lightblue\" stroke=\"lightblue\" cx=\"773.19\" cy=\"-29\" rx=\"29\" ry=\"29\"/>\n",
       "<text text-anchor=\"middle\" x=\"773.19\" y=\"-34.4\" font-family=\"Times,serif\" font-size=\"17.00\">pT:101.3</text>\n",
       "<text text-anchor=\"middle\" x=\"773.19\" y=\"-15.4\" font-family=\"Times,serif\" font-size=\"17.00\"> m:2.36 </text>\n",
       "</g>\n",
       "<!-- 9&#45;&gt;12 -->\n",
       "<!-- 11 -->\n",
       "<g id=\"node12\" class=\"node\">\n",
       "<title>11</title>\n",
       "<ellipse fill=\"wheat\" stroke=\"wheat\" cx=\"816.19\" cy=\"-139\" rx=\"45\" ry=\"45\"/>\n",
       "<text text-anchor=\"middle\" x=\"816.19\" y=\"-145\" font-family=\"Times,serif\" font-size=\"20.00\">pT:169.3</text>\n",
       "<text text-anchor=\"middle\" x=\"816.19\" y=\"-123\" font-family=\"Times,serif\" font-size=\"20.00\"> m:6.74 </text>\n",
       "</g>\n",
       "<!-- 10&#45;&gt;11 -->\n",
       "<g id=\"edge11\" class=\"edge\">\n",
       "<title>10&#45;&gt;11</title>\n",
       "<path fill=\"none\" stroke=\"black\" d=\"M816.19,-219.93C816.19,-208.74 816.19,-196.69 816.19,-185.43\"/>\n",
       "<polygon fill=\"black\" stroke=\"black\" points=\"816.54,-185.34 816.19,-184.34 815.84,-185.34 816.54,-185.34\"/>\n",
       "</g>\n",
       "<!-- 14 -->\n",
       "<g id=\"node15\" class=\"node\">\n",
       "<title>14</title>\n",
       "<ellipse fill=\"lightblue\" stroke=\"lightblue\" cx=\"1055.19\" cy=\"-29\" rx=\"29\" ry=\"29\"/>\n",
       "<text text-anchor=\"middle\" x=\"1055.19\" y=\"-34.4\" font-family=\"Times,serif\" font-size=\"17.00\">pT:29.4</text>\n",
       "<text text-anchor=\"middle\" x=\"1055.19\" y=\"-15.4\" font-family=\"Times,serif\" font-size=\"17.00\"> m:0.27 </text>\n",
       "</g>\n",
       "<!-- 10&#45;&gt;14 -->\n",
       "<g id=\"edge14\" class=\"edge\">\n",
       "<title>10&#45;&gt;14</title>\n",
       "<path fill=\"none\" stroke=\"black\" d=\"M847.93,-232.93C897.44,-184.45 991.75,-92.11 1033.91,-50.84\"/>\n",
       "<polygon fill=\"black\" stroke=\"black\" points=\"1034.42,-50.82 1034.89,-49.87 1033.93,-50.32 1034.42,-50.82\"/>\n",
       "</g>\n",
       "<!-- 11&#45;&gt;12 -->\n",
       "<g id=\"edge12\" class=\"edge\">\n",
       "<title>11&#45;&gt;12</title>\n",
       "<path fill=\"none\" stroke=\"black\" d=\"M799.81,-96.86C794.57,-83.7 788.9,-69.45 784.14,-57.5\"/>\n",
       "<polygon fill=\"black\" stroke=\"black\" points=\"784.38,-57.15 783.68,-56.35 783.73,-57.41 784.38,-57.15\"/>\n",
       "</g>\n",
       "<!-- 13 -->\n",
       "<g id=\"node14\" class=\"node\">\n",
       "<title>13</title>\n",
       "<ellipse fill=\"lightblue\" stroke=\"lightblue\" cx=\"914.19\" cy=\"-29\" rx=\"29\" ry=\"29\"/>\n",
       "<text text-anchor=\"middle\" x=\"914.19\" y=\"-34.4\" font-family=\"Times,serif\" font-size=\"17.00\">pT:68.0</text>\n",
       "<text text-anchor=\"middle\" x=\"914.19\" y=\"-15.4\" font-family=\"Times,serif\" font-size=\"17.00\"> m:3.67 </text>\n",
       "</g>\n",
       "<!-- 11&#45;&gt;13 -->\n",
       "<g id=\"edge13\" class=\"edge\">\n",
       "<title>11&#45;&gt;13</title>\n",
       "<path fill=\"none\" stroke=\"black\" d=\"M846.13,-105.01C861.63,-87.93 880.15,-67.52 893.95,-52.31\"/>\n",
       "<polygon fill=\"black\" stroke=\"black\" points=\"894.52,-52.2 894.94,-51.22 894,-51.73 894.52,-52.2\"/>\n",
       "</g>\n",
       "<!-- 12&#45;&gt;13 -->\n",
       "<!-- 13&#45;&gt;14 -->\n",
       "</g>\n",
       "</svg>\n"
      ],
      "text/plain": [
       "<graphviz.dot.Digraph at 0x7fcfa71d3310>"
      ]
     },
     "metadata": {},
     "output_type": "display_data"
    },
    {
     "name": "stderr",
     "output_type": "stream",
     "text": [
      "Warning: node '5', graph '%3' size too small for label\n"
     ]
    },
    {
     "data": {
      "image/svg+xml": [
       "<?xml version=\"1.0\" encoding=\"UTF-8\" standalone=\"no\"?>\n",
       "<!DOCTYPE svg PUBLIC \"-//W3C//DTD SVG 1.1//EN\"\n",
       " \"http://www.w3.org/Graphics/SVG/1.1/DTD/svg11.dtd\">\n",
       "<!-- Generated by graphviz version 2.44.1 (20200629.0846)\n",
       " -->\n",
       "<!-- Pages: 1 -->\n",
       "<svg width=\"720pt\" height=\"393pt\"\n",
       " viewBox=\"0.00 0.00 720.00 393.07\" xmlns=\"http://www.w3.org/2000/svg\" xmlns:xlink=\"http://www.w3.org/1999/xlink\">\n",
       "<g id=\"graph0\" class=\"graph\" transform=\"scale(0.64 0.64) rotate(0) translate(4 614)\">\n",
       "<polygon fill=\"white\" stroke=\"transparent\" points=\"-4,4 -4,-614 1128,-614 1128,4 -4,4\"/>\n",
       "<text text-anchor=\"middle\" x=\"562\" y=\"-15.2\" font-family=\"Times,serif\" font-size=\"36.00\">MCTS</text>\n",
       "<!-- 14 -->\n",
       "<g id=\"node1\" class=\"node\">\n",
       "<title>14</title>\n",
       "<ellipse fill=\"wheat\" stroke=\"wheat\" cx=\"544.19\" cy=\"-93\" rx=\"45\" ry=\"45\"/>\n",
       "<text text-anchor=\"middle\" x=\"544.19\" y=\"-99\" font-family=\"Times,serif\" font-size=\"20.00\">pT:326.6</text>\n",
       "<text text-anchor=\"middle\" x=\"544.19\" y=\"-77\" font-family=\"Times,serif\" font-size=\"20.00\"> m:80.00 </text>\n",
       "</g>\n",
       "<!-- 13 -->\n",
       "<g id=\"node2\" class=\"node\">\n",
       "<title>13</title>\n",
       "<ellipse fill=\"wheat\" stroke=\"wheat\" cx=\"458.19\" cy=\"-345\" rx=\"45\" ry=\"45\"/>\n",
       "<text text-anchor=\"middle\" x=\"458.19\" y=\"-351\" font-family=\"Times,serif\" font-size=\"20.00\">pT:45.7</text>\n",
       "<text text-anchor=\"middle\" x=\"458.19\" y=\"-329\" font-family=\"Times,serif\" font-size=\"20.00\"> m:27.91 </text>\n",
       "</g>\n",
       "<!-- 14&#45;&gt;13 -->\n",
       "<g id=\"edge1\" class=\"edge\">\n",
       "<title>14&#45;&gt;13</title>\n",
       "<path fill=\"none\" stroke=\"black\" d=\"M529.8,-135.84C514.05,-181.63 488.92,-254.66 473.01,-300.93\"/>\n",
       "<polygon fill=\"black\" stroke=\"black\" points=\"472.63,-300.96 472.63,-302.02 473.29,-301.19 472.63,-300.96\"/>\n",
       "</g>\n",
       "<!-- 10 -->\n",
       "<g id=\"node9\" class=\"node\">\n",
       "<title>10</title>\n",
       "<ellipse fill=\"wheat\" stroke=\"wheat\" cx=\"632.19\" cy=\"-219\" rx=\"45\" ry=\"45\"/>\n",
       "<text text-anchor=\"middle\" x=\"632.19\" y=\"-225\" font-family=\"Times,serif\" font-size=\"20.00\">pT:280.9</text>\n",
       "<text text-anchor=\"middle\" x=\"632.19\" y=\"-203\" font-family=\"Times,serif\" font-size=\"20.00\"> m:10.90 </text>\n",
       "</g>\n",
       "<!-- 14&#45;&gt;10 -->\n",
       "<g id=\"edge8\" class=\"edge\">\n",
       "<title>14&#45;&gt;10</title>\n",
       "<path fill=\"none\" stroke=\"black\" d=\"M569.88,-130.2C581.18,-146.12 594.43,-164.79 605.81,-180.82\"/>\n",
       "<polygon fill=\"black\" stroke=\"black\" points=\"605.76,-181.36 606.62,-181.97 606.33,-180.95 605.76,-181.36\"/>\n",
       "</g>\n",
       "<!-- 12 -->\n",
       "<g id=\"node3\" class=\"node\">\n",
       "<title>12</title>\n",
       "<ellipse fill=\"wheat\" stroke=\"wheat\" cx=\"210.19\" cy=\"-471\" rx=\"45\" ry=\"45\"/>\n",
       "<text text-anchor=\"middle\" x=\"210.19\" y=\"-477\" font-family=\"Times,serif\" font-size=\"20.00\">pT:10.6</text>\n",
       "<text text-anchor=\"middle\" x=\"210.19\" y=\"-455\" font-family=\"Times,serif\" font-size=\"20.00\"> m:7.58 </text>\n",
       "</g>\n",
       "<!-- 13&#45;&gt;12 -->\n",
       "<g id=\"edge2\" class=\"edge\">\n",
       "<title>13&#45;&gt;12</title>\n",
       "<path fill=\"none\" stroke=\"black\" d=\"M418.35,-365.92C372.56,-388.81 297.8,-426.19 251.44,-449.38\"/>\n",
       "<polygon fill=\"black\" stroke=\"black\" points=\"251.09,-449.16 250.35,-449.92 251.4,-449.79 251.09,-449.16\"/>\n",
       "</g>\n",
       "<!-- 11 -->\n",
       "<g id=\"node6\" class=\"node\">\n",
       "<title>11</title>\n",
       "<ellipse fill=\"wheat\" stroke=\"wheat\" cx=\"458.19\" cy=\"-471\" rx=\"45\" ry=\"45\"/>\n",
       "<text text-anchor=\"middle\" x=\"458.19\" y=\"-477\" font-family=\"Times,serif\" font-size=\"20.00\">pT:38.8</text>\n",
       "<text text-anchor=\"middle\" x=\"458.19\" y=\"-455\" font-family=\"Times,serif\" font-size=\"20.00\"> m:8.53 </text>\n",
       "</g>\n",
       "<!-- 13&#45;&gt;11 -->\n",
       "<g id=\"edge5\" class=\"edge\">\n",
       "<title>13&#45;&gt;11</title>\n",
       "<path fill=\"none\" stroke=\"black\" d=\"M458.19,-390.07C458.19,-401.26 458.19,-413.31 458.19,-424.57\"/>\n",
       "<polygon fill=\"black\" stroke=\"black\" points=\"457.84,-424.66 458.19,-425.66 458.54,-424.66 457.84,-424.66\"/>\n",
       "</g>\n",
       "<!-- 2 -->\n",
       "<g id=\"node4\" class=\"node\">\n",
       "<title>2</title>\n",
       "<ellipse fill=\"lightblue\" stroke=\"lightblue\" cx=\"69.19\" cy=\"-581\" rx=\"29\" ry=\"29\"/>\n",
       "<text text-anchor=\"middle\" x=\"69.19\" y=\"-586.4\" font-family=\"Times,serif\" font-size=\"17.00\">pT:2.0</text>\n",
       "<text text-anchor=\"middle\" x=\"69.19\" y=\"-567.4\" font-family=\"Times,serif\" font-size=\"17.00\"> m:2.73 </text>\n",
       "</g>\n",
       "<!-- 12&#45;&gt;2 -->\n",
       "<g id=\"edge3\" class=\"edge\">\n",
       "<title>12&#45;&gt;2</title>\n",
       "<path fill=\"none\" stroke=\"black\" d=\"M174.61,-499.25C149.07,-518.81 115.36,-544.64 93.01,-561.76\"/>\n",
       "<polygon fill=\"black\" stroke=\"black\" points=\"92.53,-561.68 91.95,-562.57 92.96,-562.24 92.53,-561.68\"/>\n",
       "</g>\n",
       "<!-- 3 -->\n",
       "<g id=\"node5\" class=\"node\">\n",
       "<title>3</title>\n",
       "<ellipse fill=\"lightblue\" stroke=\"lightblue\" cx=\"210.19\" cy=\"-581\" rx=\"29\" ry=\"29\"/>\n",
       "<text text-anchor=\"middle\" x=\"210.19\" y=\"-586.4\" font-family=\"Times,serif\" font-size=\"17.00\">pT:8.6</text>\n",
       "<text text-anchor=\"middle\" x=\"210.19\" y=\"-567.4\" font-family=\"Times,serif\" font-size=\"17.00\"> m:2.73 </text>\n",
       "</g>\n",
       "<!-- 12&#45;&gt;3 -->\n",
       "<g id=\"edge4\" class=\"edge\">\n",
       "<title>12&#45;&gt;3</title>\n",
       "<path fill=\"none\" stroke=\"black\" d=\"M210.19,-516.24C210.19,-527.86 210.19,-540.11 210.19,-550.73\"/>\n",
       "<polygon fill=\"black\" stroke=\"black\" points=\"209.84,-550.76 210.19,-551.76 210.54,-550.76 209.84,-550.76\"/>\n",
       "</g>\n",
       "<!-- 2&#45;&gt;3 -->\n",
       "<!-- 0 -->\n",
       "<g id=\"node7\" class=\"node\">\n",
       "<title>0</title>\n",
       "<ellipse fill=\"lightblue\" stroke=\"lightblue\" cx=\"351.19\" cy=\"-581\" rx=\"29\" ry=\"29\"/>\n",
       "<text text-anchor=\"middle\" x=\"351.19\" y=\"-586.4\" font-family=\"Times,serif\" font-size=\"17.00\">pT:8.8</text>\n",
       "<text text-anchor=\"middle\" x=\"351.19\" y=\"-567.4\" font-family=\"Times,serif\" font-size=\"17.00\"> m:3.85 </text>\n",
       "</g>\n",
       "<!-- 3&#45;&gt;0 -->\n",
       "<!-- 11&#45;&gt;0 -->\n",
       "<g id=\"edge6\" class=\"edge\">\n",
       "<title>11&#45;&gt;0</title>\n",
       "<path fill=\"none\" stroke=\"black\" d=\"M426.95,-503.53C409.22,-521.42 387.52,-543.33 371.9,-559.1\"/>\n",
       "<polygon fill=\"black\" stroke=\"black\" points=\"371.61,-558.89 371.16,-559.85 372.11,-559.38 371.61,-558.89\"/>\n",
       "</g>\n",
       "<!-- 1 -->\n",
       "<g id=\"node8\" class=\"node\">\n",
       "<title>1</title>\n",
       "<ellipse fill=\"lightblue\" stroke=\"lightblue\" cx=\"491.19\" cy=\"-581\" rx=\"29\" ry=\"29\"/>\n",
       "<text text-anchor=\"middle\" x=\"491.19\" y=\"-586.4\" font-family=\"Times,serif\" font-size=\"17.00\">pT:30.1</text>\n",
       "<text text-anchor=\"middle\" x=\"491.19\" y=\"-567.4\" font-family=\"Times,serif\" font-size=\"17.00\"> m:1.21 </text>\n",
       "</g>\n",
       "<!-- 11&#45;&gt;1 -->\n",
       "<g id=\"edge7\" class=\"edge\">\n",
       "<title>11&#45;&gt;1</title>\n",
       "<path fill=\"none\" stroke=\"black\" d=\"M471.14,-514.37C474.99,-526.97 479.11,-540.45 482.6,-551.9\"/>\n",
       "<polygon fill=\"black\" stroke=\"black\" points=\"482.31,-552.14 482.94,-553 482.98,-551.94 482.31,-552.14\"/>\n",
       "</g>\n",
       "<!-- 0&#45;&gt;1 -->\n",
       "<!-- 4 -->\n",
       "<g id=\"node10\" class=\"node\">\n",
       "<title>4</title>\n",
       "<ellipse fill=\"lightblue\" stroke=\"lightblue\" cx=\"632.19\" cy=\"-581\" rx=\"29\" ry=\"29\"/>\n",
       "<text text-anchor=\"middle\" x=\"632.19\" y=\"-586.4\" font-family=\"Times,serif\" font-size=\"17.00\">pT:82.2</text>\n",
       "<text text-anchor=\"middle\" x=\"632.19\" y=\"-567.4\" font-family=\"Times,serif\" font-size=\"17.00\"> m:2.98 </text>\n",
       "</g>\n",
       "<!-- 1&#45;&gt;4 -->\n",
       "<!-- 10&#45;&gt;4 -->\n",
       "<g id=\"edge9\" class=\"edge\">\n",
       "<title>10&#45;&gt;4</title>\n",
       "<path fill=\"none\" stroke=\"black\" d=\"M632.19,-264.14C632.19,-338.62 632.19,-487.28 632.19,-550.47\"/>\n",
       "<polygon fill=\"black\" stroke=\"black\" points=\"631.84,-550.58 632.19,-551.58 632.54,-550.58 631.84,-550.58\"/>\n",
       "</g>\n",
       "<!-- 9 -->\n",
       "<g id=\"node11\" class=\"node\">\n",
       "<title>9</title>\n",
       "<ellipse fill=\"wheat\" stroke=\"wheat\" cx=\"816.19\" cy=\"-345\" rx=\"45\" ry=\"45\"/>\n",
       "<text text-anchor=\"middle\" x=\"816.19\" y=\"-351\" font-family=\"Times,serif\" font-size=\"20.00\">pT:198.7</text>\n",
       "<text text-anchor=\"middle\" x=\"816.19\" y=\"-329\" font-family=\"Times,serif\" font-size=\"20.00\"> m:7.57 </text>\n",
       "</g>\n",
       "<!-- 10&#45;&gt;9 -->\n",
       "<g id=\"edge10\" class=\"edge\">\n",
       "<title>10&#45;&gt;9</title>\n",
       "<path fill=\"none\" stroke=\"black\" d=\"M669.43,-245.09C701.08,-266.42 746.33,-296.92 778.2,-318.4\"/>\n",
       "<polygon fill=\"black\" stroke=\"black\" points=\"778.3,-318.89 779.33,-319.16 778.69,-318.31 778.3,-318.89\"/>\n",
       "</g>\n",
       "<!-- 7 -->\n",
       "<g id=\"node13\" class=\"node\">\n",
       "<title>7</title>\n",
       "<ellipse fill=\"lightblue\" stroke=\"lightblue\" cx=\"773.19\" cy=\"-581\" rx=\"29\" ry=\"29\"/>\n",
       "<text text-anchor=\"middle\" x=\"773.19\" y=\"-586.4\" font-family=\"Times,serif\" font-size=\"17.00\">pT:29.4</text>\n",
       "<text text-anchor=\"middle\" x=\"773.19\" y=\"-567.4\" font-family=\"Times,serif\" font-size=\"17.00\"> m:0.27 </text>\n",
       "</g>\n",
       "<!-- 4&#45;&gt;7 -->\n",
       "<!-- 8 -->\n",
       "<g id=\"node12\" class=\"node\">\n",
       "<title>8</title>\n",
       "<ellipse fill=\"wheat\" stroke=\"wheat\" cx=\"816.19\" cy=\"-471\" rx=\"45\" ry=\"45\"/>\n",
       "<text text-anchor=\"middle\" x=\"816.19\" y=\"-477\" font-family=\"Times,serif\" font-size=\"20.00\">pT:97.4</text>\n",
       "<text text-anchor=\"middle\" x=\"816.19\" y=\"-455\" font-family=\"Times,serif\" font-size=\"20.00\"> m:4.53 </text>\n",
       "</g>\n",
       "<!-- 9&#45;&gt;8 -->\n",
       "<g id=\"edge11\" class=\"edge\">\n",
       "<title>9&#45;&gt;8</title>\n",
       "<path fill=\"none\" stroke=\"black\" d=\"M816.19,-390.07C816.19,-401.26 816.19,-413.31 816.19,-424.57\"/>\n",
       "<polygon fill=\"black\" stroke=\"black\" points=\"815.84,-424.66 816.19,-425.66 816.54,-424.66 815.84,-424.66\"/>\n",
       "</g>\n",
       "<!-- 5 -->\n",
       "<g id=\"node15\" class=\"node\">\n",
       "<title>5</title>\n",
       "<ellipse fill=\"lightblue\" stroke=\"lightblue\" cx=\"1055.19\" cy=\"-581\" rx=\"29\" ry=\"29\"/>\n",
       "<text text-anchor=\"middle\" x=\"1055.19\" y=\"-586.4\" font-family=\"Times,serif\" font-size=\"17.00\">pT:101.3</text>\n",
       "<text text-anchor=\"middle\" x=\"1055.19\" y=\"-567.4\" font-family=\"Times,serif\" font-size=\"17.00\"> m:2.36 </text>\n",
       "</g>\n",
       "<!-- 9&#45;&gt;5 -->\n",
       "<g id=\"edge14\" class=\"edge\">\n",
       "<title>9&#45;&gt;5</title>\n",
       "<path fill=\"none\" stroke=\"black\" d=\"M847.93,-377.07C897.44,-425.55 991.75,-517.89 1033.91,-559.16\"/>\n",
       "<polygon fill=\"black\" stroke=\"black\" points=\"1033.93,-559.68 1034.89,-560.13 1034.42,-559.18 1033.93,-559.68\"/>\n",
       "</g>\n",
       "<!-- 8&#45;&gt;7 -->\n",
       "<g id=\"edge12\" class=\"edge\">\n",
       "<title>8&#45;&gt;7</title>\n",
       "<path fill=\"none\" stroke=\"black\" d=\"M799.81,-513.14C794.57,-526.3 788.9,-540.55 784.14,-552.5\"/>\n",
       "<polygon fill=\"black\" stroke=\"black\" points=\"783.73,-552.59 783.68,-553.65 784.38,-552.85 783.73,-552.59\"/>\n",
       "</g>\n",
       "<!-- 6 -->\n",
       "<g id=\"node14\" class=\"node\">\n",
       "<title>6</title>\n",
       "<ellipse fill=\"lightblue\" stroke=\"lightblue\" cx=\"914.19\" cy=\"-581\" rx=\"29\" ry=\"29\"/>\n",
       "<text text-anchor=\"middle\" x=\"914.19\" y=\"-586.4\" font-family=\"Times,serif\" font-size=\"17.00\">pT:68.0</text>\n",
       "<text text-anchor=\"middle\" x=\"914.19\" y=\"-567.4\" font-family=\"Times,serif\" font-size=\"17.00\"> m:3.67 </text>\n",
       "</g>\n",
       "<!-- 8&#45;&gt;6 -->\n",
       "<g id=\"edge13\" class=\"edge\">\n",
       "<title>8&#45;&gt;6</title>\n",
       "<path fill=\"none\" stroke=\"black\" d=\"M846.13,-504.99C861.63,-522.07 880.15,-542.48 893.95,-557.69\"/>\n",
       "<polygon fill=\"black\" stroke=\"black\" points=\"894,-558.27 894.94,-558.78 894.52,-557.8 894,-558.27\"/>\n",
       "</g>\n",
       "<!-- 7&#45;&gt;6 -->\n",
       "<!-- 6&#45;&gt;5 -->\n",
       "</g>\n",
       "</svg>\n"
      ],
      "text/plain": [
       "<graphviz.dot.Digraph at 0x7fcfa5e319d0>"
      ]
     },
     "metadata": {},
     "output_type": "display_data"
    }
   ],
   "source": [
    "visualize(jets[1], clustered_jets[1])"
   ]
  },
  {
   "cell_type": "markdown",
   "metadata": {},
   "source": [
    "For comparison, here are `tree` and `content` fields from both jet dicts:"
   ]
  },
  {
   "cell_type": "code",
   "execution_count": 26,
   "metadata": {},
   "outputs": [],
   "source": [
    "def list_tree(jet, sort_by_energy=False):\n",
    "    data = list(enumerate(zip(jet[\"tree\"], jet[\"content\"])))\n",
    "    if sort_by_energy:\n",
    "        data = sorted(data, reverse=True, key=lambda x : x[1][1][0])\n",
    "        \n",
    "    for i, (children, momentum) in data:\n",
    "        logger.info(f\"i = {i:>2d}: children = {children}, p = {momentum}\")"
   ]
  },
  {
   "cell_type": "code",
   "execution_count": 27,
   "metadata": {},
   "outputs": [
    {
     "name": "stderr",
     "output_type": "stream",
     "text": [
      "20-12-15 13:59 I: i =  0: children = [1 8], p = [407.92156109 230.94010768 230.94010768 230.94010768]\n",
      "20-12-15 13:59 I: i =  8: children = [ 9 10], p = [349.57042955 199.3479812  197.89296817 207.79645725]\n",
      "20-12-15 13:59 I: i = 10: children = [11 14], p = [246.45275334 141.46064359 139.48827859 145.64886977]\n",
      "20-12-15 13:59 I: i = 11: children = [12 13], p = [210.39610406 120.76886713 118.59412674 124.78522421]\n",
      "20-12-15 13:59 I: i = 12: children = [-1 -1], p = [126.34989637  72.02452326  71.20163054  75.50831308]\n",
      "20-12-15 13:59 I: i =  9: children = [-1 -1], p = [103.1176915   57.88734634  58.40469824  62.14759657]\n",
      "20-12-15 13:59 I: i = 13: children = [-1 -1], p = [84.04620769 48.74434386 47.39249619 49.27691112]\n",
      "20-12-15 13:59 I: i =  1: children = [2 5], p = [58.35113154 31.59212647 33.04713951 23.14365043]\n",
      "20-12-15 13:59 I: i =  2: children = [3 4], p = [41.82823887 31.69867118 22.42536816 13.00670542]\n",
      "20-12-15 13:59 I: i = 14: children = [-1 -1], p = [36.05664928 20.69177646 20.89415185 20.86364556]\n",
      "20-12-15 13:59 I: i =  4: children = [-1 -1], p = [31.8988728  23.9870116  18.17014735 10.51443981]\n",
      "20-12-15 13:59 I: i =  5: children = [6 7], p = [16.52289467 -0.10654363 10.62177248 10.1369458 ]\n",
      "20-12-15 13:59 I: i =  7: children = [-1 -1], p = [10.28785486  0.24507607  8.61276787  4.91484856]\n",
      "20-12-15 13:59 I: i =  3: children = [-1 -1], p = [9.92936607 7.71165958 4.2552208  2.49226561]\n",
      "20-12-15 13:59 I: i =  6: children = [-1 -1], p = [ 6.23504033 -0.35161971  2.00900495  5.22209757]\n"
     ]
    }
   ],
   "source": [
    "list_tree(jets[1], sort_by_energy=True)"
   ]
  },
  {
   "cell_type": "code",
   "execution_count": 28,
   "metadata": {},
   "outputs": [
    {
     "name": "stderr",
     "output_type": "stream",
     "text": [
      "20-12-15 13:59 I: i = 14: children = [13 10], p = [407.92157889 230.94011747 230.94011779 230.94011787]\n",
      "20-12-15 13:59 I: i = 10: children = [4 9], p = [349.57044484 199.34798992 197.89297682 207.79646634]\n",
      "20-12-15 13:59 I: i =  9: children = [8 5], p = [246.45275334 141.46064359 139.48827859 145.64886977]\n",
      "20-12-15 13:59 I: i =  5: children = [-1 -1], p = [126.34989637  72.02452326  71.20163054  75.50831308]\n",
      "20-12-15 13:59 I: i =  8: children = [7 6], p = [120.10285697  69.43612032  68.28664804  70.14055668]\n",
      "20-12-15 13:59 I: i =  4: children = [-1 -1], p = [103.1176915   57.88734634  58.40469824  62.14759657]\n",
      "20-12-15 13:59 I: i =  6: children = [-1 -1], p = [84.04620769 48.74434386 47.39249619 49.27691112]\n",
      "20-12-15 13:59 I: i = 13: children = [12 11], p = [58.35113405 31.59212755 33.04714097 23.14365154]\n",
      "20-12-15 13:59 I: i = 11: children = [0 1], p = [41.82823887 31.69867118 22.42536816 13.00670542]\n",
      "20-12-15 13:59 I: i =  7: children = [-1 -1], p = [36.05664928 20.69177646 20.89415185 20.86364556]\n",
      "20-12-15 13:59 I: i =  1: children = [-1 -1], p = [31.8988728  23.9870116  18.17014735 10.51443981]\n",
      "20-12-15 13:59 I: i = 12: children = [2 3], p = [16.52289519 -0.10654363 10.62177282 10.13694612]\n",
      "20-12-15 13:59 I: i =  3: children = [-1 -1], p = [10.28785486  0.24507607  8.61276787  4.91484856]\n",
      "20-12-15 13:59 I: i =  0: children = [-1 -1], p = [9.92936607 7.71165958 4.2552208  2.49226561]\n",
      "20-12-15 13:59 I: i =  2: children = [-1 -1], p = [ 6.23504033 -0.35161971  2.00900495  5.22209757]\n"
     ]
    }
   ],
   "source": [
    "list_tree(clustered_jets[1], sort_by_energy=True)"
   ]
  },
  {
   "cell_type": "markdown",
   "metadata": {},
   "source": [
    "Finally, let's compare log likelihood numbers:"
   ]
  },
  {
   "cell_type": "code",
   "execution_count": 29,
   "metadata": {},
   "outputs": [
    {
     "name": "stderr",
     "output_type": "stream",
     "text": [
      "20-12-15 14:00 I: Jet 0: simulator log likelihood -112.9 vs MCTS log likelihood -107.6\n",
      "20-12-15 14:00 I: Jet 1: simulator log likelihood -58.2 vs MCTS log likelihood -56.6\n",
      "20-12-15 14:00 I: Jet 2: simulator log likelihood -112.6 vs MCTS log likelihood -109.7\n"
     ]
    }
   ],
   "source": [
    "for i, (jet, log_likelihood) in enumerate(zip(jets, log_likelihoods)):\n",
    "    logger.info(f\"Jet {i}: simulator log likelihood {sum(jet['logLH']):>5.1f} vs MCTS log likelihood {log_likelihood:>5.1f}\")\n",
    "    "
   ]
  },
  {
   "cell_type": "code",
   "execution_count": null,
   "metadata": {},
   "outputs": [],
   "source": []
  }
 ],
 "metadata": {
  "kernelspec": {
   "display_name": "Python 3",
   "language": "python",
   "name": "python3"
  },
  "language_info": {
   "codemirror_mode": {
    "name": "ipython",
    "version": 3
   },
   "file_extension": ".py",
   "mimetype": "text/x-python",
   "name": "python",
   "nbconvert_exporter": "python",
   "pygments_lexer": "ipython3",
   "version": "3.7.3"
  }
 },
 "nbformat": 4,
 "nbformat_minor": 4
}
